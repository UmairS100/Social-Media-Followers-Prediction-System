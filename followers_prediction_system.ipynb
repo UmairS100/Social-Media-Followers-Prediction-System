#!/usr/bin/env python
# coding: utf-8

# In[2]:


import pandas as pd
import matplotlib.pyplot as plt
import seaborn as sns
import numpy as np 


# In[3]:


data=pd.read_csv('C:\Users\Umair\Downloads\data.csv')


# In[4]:


data


# In[5]:


data.head()


# In[9]:


plt.figure(figsize=(15, 10))
sns.set_theme(style="whitegrid")
plt.title("Number of Followers I Gained Every Month")
sns.barplot(x="followers_gained", y="period_end", data=data)
plt.show()


# In[10]:


plt.figure(figsize=(15, 10))
sns.set_theme(style="whitegrid")
plt.title("Total Followers At The End of Every Month")
sns.barplot(x="followers_total", y="period_end", data=data)
plt.show()


# In[11]:


plt.figure(figsize=(15, 10))
sns.set_theme(style="whitegrid")
plt.title("Number of Followers I Lost Every Month")
sns.barplot(x="followers_lost", y="period_end", data=data)
plt.show()


# In[12]:


plt.figure(figsize=(15, 10))
sns.set_theme(style="whitegrid")
plt.title("Total Views Every Month")
sns.barplot(x="views", y="period_end", data=data)
plt.show()


# In[23]:


data.set_index('followers_gained')


# In[22]:


pip install autots


# In[5]:


from autots import AutoTS


# In[6]:


model=AutoTS(forecast_length=2, frequency='infer', ensemble='simple')


# In[7]:


model=model.fit(data, date_col='period_end',value_col='followers_gained',id_col=None)


# In[56]:


prediction=model.predict()


# In[57]:


forecast=prediction.forecast


# In[58]:


print(forecast)


# In[31]:


data.set_index('followers_lost')


# In[30]:


model=AutoTS(forecast_length=3, frequency='infer', ensemble='simple')


# In[31]:


model=model.fit(data, date_col='period_end',value_col='followers_lost',id_col=None)


# In[8]:


prediction=model.predict()


# In[33]:


forecast=prediction.forecast


# In[9]:


print(forecast)


# In[ ]:


forecast


# In[36]:


model=AutoTS(forecast_length=3, frequency='infer', ensemble='simple')


# In[37]:


model=model.fit(data, date_col='period_end',value_col='followers_total',id_col=None)


# In[1]:


prediction=model.predict()
  


# In[39]:


forecast=prediction.forecast


# In[40]:


print(forecast)
